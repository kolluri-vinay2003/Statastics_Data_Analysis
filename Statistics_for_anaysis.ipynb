{
 "cells": [
  {
   "cell_type": "markdown",
   "id": "1e47eeb4-b6c0-4061-af7c-94313dc2f132",
   "metadata": {},
   "source": [
    "# **Statistics for Analysis**\n",
    "#### Prepared by: *Kolluri Vinay*\n",
    "#### Goal: *core statistics concepts required for data analysis*"
   ]
  },
  {
   "cell_type": "markdown",
   "id": "47c06a92-ebb2-47ee-bea9-5a0f8e54efbf",
   "metadata": {},
   "source": [
    "### ***This Notebook is divided into two parts***\n",
    "#### 1.Descriptive statistics\n",
    "#### 2.Inferential statistics"
   ]
  },
  {
   "cell_type": "markdown",
   "id": "eb1efbe2-6e18-4389-90f7-bb49b0065308",
   "metadata": {},
   "source": [
    "# **1.Descriptive statistics**\n",
    "A. **Measures of Central Tendency:** Mean, Median, Mode  \n",
    "B. **Measures of Spread:** Range, Variance, Standard Deviation  \n",
    "C. **Measure of Symmetry:** Skewness — detecting if data is skewed left or right  \n",
    "D. **Measure of Variability:** Interquartile Range (IQR) and Coefficient of Variation (CV)  \n",
    "E. **Levels of Measurement:** Nominal, Ordinal, Interval, and Ratio scales  "
   ]
  },
  {
   "cell_type": "markdown",
   "id": "f24fee27-22b5-4158-ae8c-f59fe50f0e69",
   "metadata": {},
   "source": [
    "#### **Let us consider a Attribute as our data**\n",
    "Example : \"Heights of students in a class\"\n",
    "The numbers 125 to 180 likely represent a realistic human \n",
    "height range in centimeters, especially for adult populations.\n"
   ]
  },
  {
   "cell_type": "code",
   "execution_count": 4,
   "id": "4898c4b5-1187-4459-8141-a4fb5bd8b550",
   "metadata": {
    "scrolled": true
   },
   "outputs": [
    {
     "data": {
      "text/plain": [
       "[128,\n",
       " 151,\n",
       " 171,\n",
       " 161,\n",
       " 137,\n",
       " 174,\n",
       " 137,\n",
       " 174,\n",
       " 125,\n",
       " 135,\n",
       " 151,\n",
       " 162,\n",
       " 176,\n",
       " 127,\n",
       " 168,\n",
       " 169,\n",
       " 163,\n",
       " 159,\n",
       " 154,\n",
       " 144,\n",
       " 176,\n",
       " 146,\n",
       " 166,\n",
       " 129,\n",
       " 151,\n",
       " 139,\n",
       " 140,\n",
       " 144,\n",
       " 133,\n",
       " 131,\n",
       " 150,\n",
       " 160,\n",
       " 155,\n",
       " 172,\n",
       " 139,\n",
       " 125,\n",
       " 133,\n",
       " 170,\n",
       " 134,\n",
       " 132,\n",
       " 166,\n",
       " 151,\n",
       " 145,\n",
       " 126,\n",
       " 133,\n",
       " 134,\n",
       " 138,\n",
       " 145,\n",
       " 146,\n",
       " 137,\n",
       " 134,\n",
       " 140,\n",
       " 179,\n",
       " 159,\n",
       " 145,\n",
       " 142,\n",
       " 133,\n",
       " 161,\n",
       " 154,\n",
       " 148,\n",
       " 145,\n",
       " 153,\n",
       " 172,\n",
       " 148,\n",
       " 178,\n",
       " 155,\n",
       " 171,\n",
       " 166,\n",
       " 179,\n",
       " 135,\n",
       " 143,\n",
       " 148,\n",
       " 130,\n",
       " 176,\n",
       " 147,\n",
       " 172,\n",
       " 171,\n",
       " 153,\n",
       " 153,\n",
       " 162,\n",
       " 131,\n",
       " 142,\n",
       " 132,\n",
       " 140,\n",
       " 173,\n",
       " 141,\n",
       " 177,\n",
       " 125,\n",
       " 156,\n",
       " 175,\n",
       " 150,\n",
       " 158,\n",
       " 150,\n",
       " 172,\n",
       " 145,\n",
       " 135,\n",
       " 129,\n",
       " 178,\n",
       " 154,\n",
       " 157]"
      ]
     },
     "execution_count": 4,
     "metadata": {},
     "output_type": "execute_result"
    }
   ],
   "source": [
    "import numpy as np\n",
    "Height=[128, 151, 171, 161, 137, 174, 137, 174, 125, 135, 151, 162, 176,\n",
    "       127, 168, 169, 163, 159, 154, 144, 176, 146, 166, 129, 151, 139,\n",
    "       140, 144, 133, 131, 150, 160, 155, 172, 139, 125, 133, 170, 134,\n",
    "       132, 166, 151, 145, 126, 133, 134, 138, 145, 146, 137, 134, 140,\n",
    "       179, 159, 145, 142, 133, 161, 154, 148, 145, 153, 172, 148, 178,\n",
    "       155, 171, 166, 179, 135, 143, 148, 130, 176, 147, 172, 171, 153,\n",
    "       153, 162, 131, 142, 132, 140, 173, 141, 177, 125, 156, 175, 150,\n",
    "       158, 150, 172, 145, 135, 129, 178, 154, 157]\n",
    "Height"
   ]
  },
  {
   "cell_type": "markdown",
   "id": "d6571340-22ab-4434-b3cf-1f45adb14db4",
   "metadata": {},
   "source": [
    "### **A.Measures of Central Tendency:**"
   ]
  },
  {
   "cell_type": "markdown",
   "id": "256880be-13c7-475e-83e6-55248940156c",
   "metadata": {},
   "source": [
    "### Mean\n",
    "##### Mean is the average of a group of numbers"
   ]
  },
  {
   "cell_type": "code",
   "execution_count": 60,
   "id": "33cb406b-8cd5-428a-940b-afda575c5d50",
   "metadata": {},
   "outputs": [
    {
     "data": {
      "text/plain": [
       "150.84"
      ]
     },
     "execution_count": 60,
     "metadata": {},
     "output_type": "execute_result"
    }
   ],
   "source": [
    "average_height=Height.mean()\n",
    "average_height"
   ]
  },
  {
   "cell_type": "markdown",
   "id": "3f7b59c5-d2ab-41b2-8aea-46a22f4186ee",
   "metadata": {},
   "source": [
    "### Median\n",
    "##### Median is the middle value in a set of numbers when they are arranged in order"
   ]
  },
  {
   "cell_type": "code",
   "execution_count": 61,
   "id": "2c6a8d87-7598-4511-a73c-656896568747",
   "metadata": {},
   "outputs": [
    {
     "data": {
      "text/plain": [
       "150.0"
      ]
     },
     "execution_count": 61,
     "metadata": {},
     "output_type": "execute_result"
    }
   ],
   "source": [
    "median_height=np.median(Height)\n",
    "median_height"
   ]
  },
  {
   "cell_type": "markdown",
   "id": "d0b22c69-7ccf-44c4-a5c3-424277838c6c",
   "metadata": {},
   "source": [
    "### Mode\n",
    "##### Mode is the number that appears most frequently in a dataset."
   ]
  },
  {
   "cell_type": "code",
   "execution_count": 62,
   "id": "7c0572b8-eeeb-4a3b-b0d6-245d0d213675",
   "metadata": {},
   "outputs": [
    {
     "data": {
      "text/plain": [
       "ModeResult(mode=145, count=5)"
      ]
     },
     "execution_count": 62,
     "metadata": {},
     "output_type": "execute_result"
    }
   ],
   "source": [
    "from scipy import stats\n",
    "mode_height=stats.mode(Height)\n",
    "mode_height"
   ]
  },
  {
   "cell_type": "markdown",
   "id": "ef39ffce-edeb-40e5-9e77-4cd48de60898",
   "metadata": {},
   "source": [
    "## **B.Measure of spread**"
   ]
  },
  {
   "cell_type": "markdown",
   "id": "230456a7-9b0f-4dab-915f-6a5fdf2a1f57",
   "metadata": {},
   "source": [
    "### Range\n",
    "##### Range is a difference between maximum and minimum value"
   ]
  },
  {
   "cell_type": "code",
   "execution_count": 63,
   "id": "e315cf86-d298-4f1b-8b3b-75a3519ef156",
   "metadata": {},
   "outputs": [
    {
     "name": "stdout",
     "output_type": "stream",
     "text": [
      "The minimum height is:125\n",
      "The maximum height is:179\n",
      "The range of our data is:54\n"
     ]
    }
   ],
   "source": [
    "minimum_value=np.min(Height)\n",
    "maximum_value=np.max(Height)\n",
    "print(f'The minimum height is:{minimum_value}')\n",
    "print(f'The maximum height is:{maximum_value}')\n",
    "print(f'The range of our data is:{maximum_value-minimum_value}')"
   ]
  },
  {
   "cell_type": "markdown",
   "id": "0becbe23-b0ce-4dea-ad69-98252f462961",
   "metadata": {},
   "source": [
    "### Variance"
   ]
  },
  {
   "cell_type": "markdown",
   "id": "9debf937-b87d-401f-80ff-c875fc22b5d0",
   "metadata": {},
   "source": [
    "##### Variance is a measurement of average of squared difference from mean\n",
    "##### Find the mean,square each difference from mean,average them and that is our variance"
   ]
  },
  {
   "cell_type": "code",
   "execution_count": 64,
   "id": "14c48875-9e9a-4ab8-9689-fa080ad50f56",
   "metadata": {},
   "outputs": [
    {
     "name": "stdout",
     "output_type": "stream",
     "text": [
      "The variance of the heights is:250.09439999999998\n"
     ]
    }
   ],
   "source": [
    "H=Height.var()\n",
    "print(f'The variance of the heights is:{H}')"
   ]
  },
  {
   "cell_type": "markdown",
   "id": "edb63984-ec4b-4925-82d9-9a3b16060f4d",
   "metadata": {},
   "source": [
    "### Standard deviation\n",
    "##### The quare root of the variance,it shows the spread of data from mean"
   ]
  },
  {
   "cell_type": "code",
   "execution_count": 65,
   "id": "d314343f-2035-4fe3-b880-cfc989601e2a",
   "metadata": {},
   "outputs": [
    {
     "name": "stdout",
     "output_type": "stream",
     "text": [
      "The standard deviation of the heights is:15.81437320920434\n"
     ]
    }
   ],
   "source": [
    "print(f'The standard deviation of the heights is:{Height.std()}')"
   ]
  },
  {
   "cell_type": "markdown",
   "id": "dfa99a32-9f22-4925-9a65-7418f60e196c",
   "metadata": {},
   "source": [
    "## **C.Measure fo symmetry**\n",
    "\n",
    "##### Skewness is statistical measure that shows how data is spread out in a dataset.\n",
    "##### It tells if the data points are skewed to the left (negative skew) or right (positive skew) in relation to mean\n",
    "##### It is important because it helps us understand the overall pattern of the data, spot any unusual values (outliers), \n",
    "##### and choose   the right statistical methods for analysis.\n",
    "\n",
    "#### Positive Skew (Right Skew)\n",
    "##### The graph stretches more to the right. Most values are small, but a few big ones pull the curve right.\n",
    "##### Mean > Median > Mode\n",
    "##### Examples: Salaries, exam scores, stock returns.\n",
    "#### Negative Skew (Left Skew)\n",
    "##### The graph stretches more to the left. Most values are big, but a few small ones pull the curve left.\n",
    "##### Mean < Median < Mode\n",
    "##### Examples: Easy test scores, retirement age, baby birth age.\n",
    "#### Zero Skew (Symmetrical)\n",
    "##### The graph is perfectly balanced. Values are evenly spread around the center.\n",
    "##### Mean = Median = Mode\n",
    "##### Example: Ideal bell-shaped data (like height in a large group)."
   ]
  },
  {
   "cell_type": "code",
   "execution_count": 66,
   "id": "a3d059b9-34e3-4589-b197-7239332d5dd8",
   "metadata": {},
   "outputs": [
    {
     "name": "stdout",
     "output_type": "stream",
     "text": [
      "    student_height\n",
      "0              128\n",
      "1              151\n",
      "2              171\n",
      "3              161\n",
      "4              137\n",
      "..             ...\n",
      "95             135\n",
      "96             129\n",
      "97             178\n",
      "98             154\n",
      "99             157\n",
      "\n",
      "[100 rows x 1 columns]\n"
     ]
    }
   ],
   "source": [
    "import pandas as pd\n",
    "import matplotlib.pyplot as plt\n",
    "import seaborn as sns\n",
    "heights_data=pd.DataFrame({\"student_height\":[i for i in Height]})\n",
    "print(heights_data)"
   ]
  },
  {
   "cell_type": "code",
   "execution_count": 67,
   "id": "aff2ed81-7979-46e4-89d0-19d0e105c8f1",
   "metadata": {},
   "outputs": [
    {
     "data": {
      "image/png": "[encoded data removed]",
      "text/plain": [
       "<Figure size 640x480 with 1 Axes>"
      ]
     },
     "metadata": {},
     "output_type": "display_data"
    }
   ],
   "source": [
    "sns.histplot(heights_data['student_height'],color='pink')\n",
    "plt.axvline(average_height,color='g',linestyle='dashed',linewidth=1,label='Mean')\n",
    "plt.axvline(median_height,color='b',linestyle='dashed',linewidth=1,label='Median')\n",
    "plt.axvline(mode_height[0],color='r',linestyle='dashed',linewidth=1,label='Mode')\n",
    "plt.title('Distribution of student heights')\n",
    "plt.legend()\n",
    "plt.show()"
   ]
  },
  {
   "cell_type": "code",
   "execution_count": 69,
   "id": "e6b4a0c4-97bd-4cfc-9721-7e3a6a5b5a9a",
   "metadata": {
    "scrolled": true
   },
   "outputs": [
    {
     "data": {
      "image/png": "[encoded data removed]",
      "text/plain": [
       "<Figure size 640x480 with 1 Axes>"
      ]
     },
     "metadata": {},
     "output_type": "display_data"
    }
   ],
   "source": [
    "sns.kdeplot(heights_data['student_height'],color='lightblue',fill=True)\n",
    "plt.axvline(average_height,color='g',linestyle='dashed',linewidth=1,label='Mean')\n",
    "plt.axvline(median_height,color='b',linestyle='dashed',linewidth=1,label='Median')\n",
    "plt.axvline(mode_height[0],color='r',linestyle='dashed',linewidth=1,label='Mode')\n",
    "plt.title('Distribution of student heights')\n",
    "plt.legend()\n",
    "plt.show()"
   ]
  },
  {
   "cell_type": "markdown",
   "id": "1c5cbbe9-67fe-4641-84f2-b4578ca2e71a",
   "metadata": {},
   "source": [
    "##### The distribution shown in the graph is positively skewed(righ skewed)\n",
    "##### This is because:Mode<Median<Mean\n",
    "##### The tail of the distribution extends to the right\n",
    "##### It means,most stundents have heights on lower side\n",
    "##### Few students are taller,pulling the mean to the rihgt"
   ]
  },
  {
   "cell_type": "markdown",
   "id": "5ebb1a67-68bb-4968-af76-14dc728c9289",
   "metadata": {},
   "source": [
    "### **D.Measure of Variability**\n",
    "##### Variability refers to how spread out or dispersed the data points are in a dataset.\n",
    "##### One important measure of variability is the Interquartile Range (IQR).\n",
    "##### 1.Inter Quartile Range (IQR)\n",
    "##### 2.Coefficient of Variation(CV)"
   ]
  },
  {
   "cell_type": "markdown",
   "id": "1f045b49-c44b-4129-92c4-7db962369529",
   "metadata": {
    "jupyter": {
     "source_hidden": true
    }
   },
   "source": [
    "#### **1) Inter Quartile Range**\n",
    "##### The Interquartile Range measures the spread of the middle 50% of values in a dataset. \n",
    "##### It shows how concentrated or scattered the central portion of the data is, \n",
    "##### helping to detect outliers and understand distribution.\n",
    "\n",
    "##### **Steps to Calculate IQR:**\n",
    "##### Sort the Data\n",
    "##### Arrange the dataset in ascending order.\n",
    "##### **Find the Quartiles**\n",
    "##### Q1 (First Quartile): The median of the lower half (25th percentile).\n",
    "##### Q3 (Third Quartile): The median of the upper half (75th percentile).\n",
    "##### **Calculate the IQR**\n",
    "##### IQR=Q3−Q1\n",
    "##### This gives the range of the middle 50% of the data.\n",
    "##### **Key Insight:**\n",
    "##### A small IQR means the middle values are tightly grouped.\n",
    "##### A large IQR indicates greater variability in the central data.\n",
    "##### Outliers often lie below \n",
    "#####              Q1 − 1.5 × IQR or \n",
    "#####        above Q3 + 1.5 × IQR."
   ]
  },
  {
   "cell_type": "code",
   "execution_count": 8,
   "id": "4eb9fa2f-7c5c-4da7-81f7-a11352ce9eea",
   "metadata": {},
   "outputs": [
    {
     "name": "stdout",
     "output_type": "stream",
     "text": [
      "Q1:137.0\n",
      "Q3:163.75\n",
      "The IQR for the students heights: 26.75\n"
     ]
    }
   ],
   "source": [
    "#calculating the IQR for our students heights\n",
    "import numpy as np\n",
    "sorted_heights=np.sort(Height)\n",
    "Q1=np.percentile(sorted_heights,25)\n",
    "Q3=np.percentile(sorted_heights,75)\n",
    "IQR=Q3-Q1\n",
    "print(f'Q1:{Q1}')\n",
    "print(f'Q3:{Q3}')\n",
    "print(f'The IQR for the students heights: {IQR}')"
   ]
  },
  {
   "cell_type": "code",
   "execution_count": 9,
   "id": "aedfad23-2865-4d9d-8477-5e9c24c0315c",
   "metadata": {},
   "outputs": [
    {
     "name": "stdout",
     "output_type": "stream",
     "text": [
      "lower_bound is:96.875\n",
      "upper_bound is:203.875\n",
      "Any data that lies below 96.875 and above203.875 is outlier\n"
     ]
    }
   ],
   "source": [
    "lower_bound=Q1-(1.5*IQR)\n",
    "upper_bound=Q3+(1.5*IQR)\n",
    "print(f'lower_bound is:{lower_bound}')\n",
    "print(f'upper_bound is:{upper_bound}')\n",
    "print(f'Any data that lies below {lower_bound} and above{upper_bound} is outlier')\n"
   ]
  },
  {
   "cell_type": "code",
   "execution_count": 10,
   "id": "c7a687ac-acdf-4325-b1a6-566ef95e8c5f",
   "metadata": {},
   "outputs": [
    {
     "name": "stdout",
     "output_type": "stream",
     "text": [
      "our data has no outlier\n"
     ]
    }
   ],
   "source": [
    "#detect outliers\n",
    "outlier=[]\n",
    "for i in Height:\n",
    "    if i<lower_bound or i>upper_bound:\n",
    "        outlier.append(i)\n",
    "\n",
    "if len(outlier)==0:\n",
    "    print('our data has no outlier')\n",
    "else:\n",
    "    print(f'The outliers are in our data are:{outlier}')"
   ]
  },
  {
   "cell_type": "markdown",
   "id": "771c3218-c907-4ce7-a4a8-785994d04390",
   "metadata": {},
   "source": [
    "#### **2) Coefficient of Variation (CV)**\n",
    "##### The Coefficient of Variation (CV) measures the relative variability of a dataset.\n",
    "##### It shows how much the data varies in proportion to the mean.\n",
    "##### Expressed as a percentage, it helps compare consistency between two or more datasets, even with different scales.\n",
    "#### **Formula** = (Standard Deviation/Mean)*100\n"
   ]
  },
  {
   "cell_type": "markdown",
   "id": "02e0c823-4326-4915-b716-56dae9f7d82c",
   "metadata": {},
   "source": [
    "##### **Example:**\n",
    "##### We have two products A and B, and we want to compare the variability of their monthly sales:\n",
    "\n",
    "##### Product A:\n",
    "##### Mean sales = 500 units\n",
    "##### Standard Deviation = 50 units\n",
    "\n",
    "##### Product B:\n",
    "##### Mean sales = 1000 units\n",
    "##### Standard Deviation = 120 units"
   ]
  },
  {
   "cell_type": "code",
   "execution_count": 4,
   "id": "98dbd9cd-07fe-4ead-9a94-019f57d1694b",
   "metadata": {},
   "outputs": [
    {
     "name": "stdout",
     "output_type": "stream",
     "text": [
      "coefficient of variation of product A is:10.0%\n",
      "coefficient of variation of product B is:12.0%\n"
     ]
    }
   ],
   "source": [
    "# Calculating coefficient of variation for product A\n",
    "Mean_A=500\n",
    "STD_A=50\n",
    "CV_A=(STD_A/Mean_A)*100\n",
    "print(f'coefficient of variation of product A is:{round(CV_A,2)}%')\n",
    "# Calculating coefficient of variation for product B\n",
    "Mean_B=1000\n",
    "STD_B=120\n",
    "CV_B=(STD_B/Mean_B)*100\n",
    "print(f'coefficient of variation of product B is:{round(CV_B,2)}%')"
   ]
  },
  {
   "cell_type": "markdown",
   "id": "68ce9e05-2335-4082-b5a1-fb23c9284e7c",
   "metadata": {},
   "source": [
    "##### If consistency is important, Product A would be better choice!.\n",
    "##### Product B ,with a CV of 12%,has a higher relative variability than Product A,which has a CV of 10%.\n",
    "##### This suggests that Product B sales are more unpredictable.\n",
    "\n",
    "##### Higher CV = More variability (less stable)\n",
    "##### Lower CV = Less variability (more stable)\n",
    "\n",
    "##### What Happens When Sales Are More Variable?\n",
    "##### ***1. Unpredictable Revenue***\n",
    "##### You can’t accurately forecast how much you’ll earn month to month.\n",
    "##### One month sales might be high, another month very low.\n",
    "##### Impact: Hard to plan budgets, stock, staffing, or investments.\n",
    "\n",
    "##### ***2. Inventory Problems***\n",
    "##### You might overstock or understock products.\n",
    "##### Overstock → unsold goods, losses\n",
    "##### Understock → missed sales, unhappy customers\n",
    "\n",
    "##### ***3. Increased Business Risk***\n",
    "##### High variability means less control over business performance.\n",
    "##### Risk of cash flow issues, especially for small businesses.\n",
    "\n",
    "##### ***4. Difficult Decision-Making***\n",
    "##### Hard to make decisions about marketing, production, or expansion if sales are unstable.\n",
    "\n",
    "##### ***5. Lower Investor or Stakeholder Confidence***\n",
    "##### Investors and partners prefer stable, predictable growth.\n",
    "\n",
    "##### Highly variable sales can make the business look risky or unreliable."
   ]
  },
  {
   "cell_type": "markdown",
   "id": "a9c8fdbc-bbea-46c1-b876-e5f522646c22",
   "metadata": {},
   "source": [
    "### **E .Levels of Measurment**\n",
    "##### Levels of measurement describe how data can be classified and what kind of mathematical operations can be performed on them.\n",
    "\n",
    "##### There are four main levels:\n",
    "\n",
    "##### **1. Nominal Level**\n",
    "##### Data is categorized into distinct groups with no order or ranking.\n",
    "##### Only classification is possible (no comparisons or arithmetic operations).\n",
    "##### *Example:*\n",
    "##### Gender: Male, Female, Other\n",
    "##### Blood Type: A, B, AB, O\n",
    "##### Marital Status: Single, Married, Divorced\n",
    "\n",
    "##### **2. Ordinal Level**\n",
    "##### Data is categorized with a meaningful order or ranking, but the intervals between categories are not equal or known.\n",
    "##### You can rank the data, but cannot measure exact differences.\n",
    "##### *Examples:*\n",
    "##### Education Level: High School, Bachelor's, Master's\n",
    "##### Customer Satisfaction: Very Unsatisfied, Unsatisfied, Neutral, Satisfied, Very Satisfied\n",
    "##### Class Position: 1st, 2nd, 3rd (but we don’t know how much higher or lower)\n",
    "\n",
    "##### **3. Interval Level**\n",
    "##### Interval data is numerical, and the intervals between values are equal.\n",
    "##### This means we can add and subtract values meaningfully.\n",
    "##### However, there is no true zero, so ratios (like \"twice as much\") do not make sense.\n",
    "##### *Examples:*\n",
    "##### Temperature in Celsius or Fahrenheit:\n",
    "##### The difference between 20°C and 30°C is the same as the difference between 40°C and 50°C.\n",
    "##### But 0°C does not mean \"no temperature\" — it’s just a point on the scale.\n",
    "##### Years (calendar years):\n",
    "##### The difference between 2000 and 2010 is the same as the difference between 2010 and 2020 (10 years).\n",
    "##### However, you cannot say that \"the year 2000 is twice as late as the year 1000'.\n",
    "\n",
    "##### **4. Ratio Level**\n",
    "##### Ratio data has all the features of interval data, plus a meaningful zero.\n",
    "##### You can add, subtract, multiply, and divide these values.\n",
    "##### Ratios are meaningful — for example, one value can be twice or half of another.\n",
    "##### *Examples:*\n",
    "##### Height:\n",
    "##### A person who is 180 cm tall is twice as tall as someone who is 90 cm.\n",
    "##### 0 cm means no height.\n",
    "##### Weight:\n",
    "##### 50 kg is half of 100 kg.\n",
    "##### 0 kg means no weight."
   ]
  },
  {
   "cell_type": "code",
   "execution_count": 3,
   "id": "cfc94366-2288-48ed-b93f-45b840f83aae",
   "metadata": {},
   "outputs": [
    {
     "data": {
      "text/html": [
       "<div>\n",
       "<style scoped>\n",
       "    .dataframe tbody tr th:only-of-type {\n",
       "        vertical-align: middle;\n",
       "    }\n",
       "\n",
       "    .dataframe tbody tr th {\n",
       "        vertical-align: top;\n",
       "    }\n",
       "\n",
       "    .dataframe thead th {\n",
       "        text-align: right;\n",
       "    }\n",
       "</style>\n",
       "<table border=\"1\" class=\"dataframe\">\n",
       "  <thead>\n",
       "    <tr style=\"text-align: right;\">\n",
       "      <th></th>\n",
       "      <th>Level</th>\n",
       "      <th>Category</th>\n",
       "      <th>Order</th>\n",
       "      <th>Equal Interval</th>\n",
       "      <th>True Zero</th>\n",
       "    </tr>\n",
       "  </thead>\n",
       "  <tbody>\n",
       "    <tr>\n",
       "      <th>0</th>\n",
       "      <td>Nominal</td>\n",
       "      <td>yes</td>\n",
       "      <td>no</td>\n",
       "      <td>no</td>\n",
       "      <td>no</td>\n",
       "    </tr>\n",
       "    <tr>\n",
       "      <th>1</th>\n",
       "      <td>Ordinal</td>\n",
       "      <td>yes</td>\n",
       "      <td>yes</td>\n",
       "      <td>no</td>\n",
       "      <td>no</td>\n",
       "    </tr>\n",
       "    <tr>\n",
       "      <th>2</th>\n",
       "      <td>Interval</td>\n",
       "      <td>yes</td>\n",
       "      <td>yes</td>\n",
       "      <td>yes</td>\n",
       "      <td>no</td>\n",
       "    </tr>\n",
       "    <tr>\n",
       "      <th>3</th>\n",
       "      <td>Ratio</td>\n",
       "      <td>yes</td>\n",
       "      <td>yes</td>\n",
       "      <td>yes</td>\n",
       "      <td>yes</td>\n",
       "    </tr>\n",
       "  </tbody>\n",
       "</table>\n",
       "</div>"
      ],
      "text/plain": [
       "      Level Category Order Equal Interval True Zero\n",
       "0   Nominal      yes    no             no        no\n",
       "1   Ordinal      yes   yes             no        no\n",
       "2  Interval      yes   yes            yes        no\n",
       "3     Ratio      yes   yes            yes       yes"
      ]
     },
     "execution_count": 3,
     "metadata": {},
     "output_type": "execute_result"
    }
   ],
   "source": [
    "#summary for levels of measurement\n",
    "import pandas as pd\n",
    "df_summary=pd.DataFrame({\n",
    "'Level':['Nominal','Ordinal','Interval','Ratio'],\n",
    "'Category':['yes','yes','yes','yes'],\n",
    "'Order':['no','yes','yes','yes'],\n",
    "'Equal Interval':['no','no','yes','yes'],\n",
    "'True Zero':['no','no','no','yes']\n",
    "})\n",
    "df_summary\n"
   ]
  },
  {
   "cell_type": "markdown",
   "id": "68d0a183-8954-44ac-9cca-c919e73eff81",
   "metadata": {},
   "source": [
    "# **2.Inferential statistics**\n",
    "##### A. Population vs Sample\n",
    "##### B. Central Limit Theorem\n",
    "##### C. Confidence Intervals"
   ]
  },
  {
   "cell_type": "markdown",
   "id": "8f646049-e29a-412a-a4f1-dbaaf91ad8f2",
   "metadata": {},
   "source": [
    "### **A. Population vs Sample**"
   ]
  },
  {
   "cell_type": "markdown",
   "id": "690ff282-44e8-4ed7-af97-89f1676c9279",
   "metadata": {},
   "source": [
    "#### **Population**\n",
    "\n",
    "##### Suppose we are conducting a survey to find out the average monthly mobile usage among students in a country.\n",
    "##### In this case, the population would include all students across the entire country — from all universities,\n",
    "##### colleges, schools, and covering both male and female students (and any other gender identity).\n",
    "\n",
    "##### It doesn’t matter whether they live in rural or urban areas, attend public or private institutions, or are \n",
    "##### undergraduate or postgraduate — every student falls under the population we're studying.\n",
    "\n"
   ]
  },
  {
   "cell_type": "markdown",
   "id": "15fbf90e-1f93-4084-9ab3-6ed45cbc3ca2",
   "metadata": {},
   "source": [
    "#### **Sample**\n",
    "##### A sample is a subset of the population. The word itself suggests that it’s just a small portion of \n",
    "##### the full data. Instead of analyzing the entire population (which is often impractical or time-consuming), \n",
    "##### we select a smaller group — the sample — to study and draw conclusions.\n",
    "##### We randomly select a representative group of individuals from the full population, \n",
    "##### and this sample becomes the basis of our analysis.\n",
    "##### *Example*\n",
    "##### If we want to study mobile usage among students in a country, surveying 1,000 \n",
    "##### students from various universities instead of all students would be our sample.\n",
    "\n",
    "\n"
   ]
  },
  {
   "cell_type": "markdown",
   "id": "306dcdbf-a90b-4e95-9c7e-17c48c64f865",
   "metadata": {},
   "source": [
    "### **B. Central Limit Theorem (CLT)**\n",
    "##### Why is CLT Important?\n",
    "##### >> CLT allows us to use normal distribution properties (such as hypothesis testing and confidence intervals) even when the \n",
    "##### population data is not normally distributed.\n",
    "##### >> It helps in decision-making by estimating probabilities and drawing conclusions based on sample means, \n",
    "##### especially with large datasets.\n",
    "##### >> CLT is the foundation of many statistical techniques used in data science and business analysis."
   ]
  },
  {
   "cell_type": "markdown",
   "id": "93826bce-25da-4519-a993-7482d721f392",
   "metadata": {},
   "source": [
    "##### ***Example:*** Mobile Production in a Factory\n",
    "##### Imagine a factory that produces mobile phones. Let’s assume:\n",
    "\n",
    "##### The number of phones produced per hour is skewed (not normally distributed).\n",
    "\n",
    "##### The population mean is 50 mobiles per hour.\n",
    "\n",
    "##### The population standard deviation is 10 mobiles per hour.\n",
    "\n",
    "##### ***Goal:**\n",
    "##### You want to know whether the average hourly production meets the target of 50 mobiles. Instead of checking \n",
    "##### one hour at a time, you decide to look at average production over multiple hours to get more reliable results."
   ]
  },
  {
   "cell_type": "markdown",
   "id": "9f423839-3ce8-4cc2-acba-99d2ace169f1",
   "metadata": {},
   "source": [
    "##### **Steps:**\n",
    "##### ***Step 1:*** Sampling\n",
    "\n",
    "##### Take samples of 30 hours of production.\n",
    "\n",
    "##### For each sample, calculate the average (mean) production rate.\n",
    "\n",
    "##### ***Step 2:*** Repeat Sampling\n",
    "\n",
    "##### Repeat the sampling process 10,000 times.\n",
    "\n",
    "##### You now have 10,000 sample means, each based on 30 hours.\n",
    "\n",
    "##### One sample = 30 hours of production\n",
    "\n",
    "##### 10,000 samples = A large distribution of average production values\n",
    "\n",
    "##### ***Step 3:*** Visualize the Sample Means\n",
    "\n",
    "##### Plot a histogram of the 10,000 sample means using Matplotlib or Seaborn.\n",
    "\n",
    "##### The distribution of these means will form a normal (bell-shaped) curve, even though the original data was skewed."
   ]
  },
  {
   "cell_type": "code",
   "execution_count": 6,
   "id": "6128196b-feea-4f54-8359-84db5bbbff84",
   "metadata": {},
   "outputs": [
    {
     "data": {
      "image/png": "[encoded data removed]",
      "text/plain": [
       "<Figure size 640x480 with 1 Axes>"
      ]
     },
     "metadata": {},
     "output_type": "display_data"
    }
   ],
   "source": [
    "import numpy as np \n",
    "import matplotlib.pyplot as plt\n",
    "import seaborn as sns\n",
    "population_mean=50\n",
    "population_std=10\n",
    "sample_size=30\n",
    "no_of_samples=10000\n",
    "sample_means=[]\n",
    "for i in range(no_of_samples):\n",
    "    #simulate a sample of 30 hours of productions for given range\n",
    "    sample=np.random.normal(population_mean,population_std,sample_size)\n",
    "    sample_means.append(np.mean(sample))\n",
    "#plot the distribution\n",
    "sns.histplot(sample_means,bins=30,color='lightgreen')\n",
    "plt.title('Distribution of sample means(CLT)')\n",
    "plt.xlabel('sample mean')\n",
    "plt.ylabel('frequency')\n",
    "plt.show()\n",
    "\n"
   ]
  },
  {
   "cell_type": "markdown",
   "id": "3a468f0e-5a6b-4dac-9066-f362e95447ed",
   "metadata": {},
   "source": [
    "##### We can see the above histogram is accurately a Normal Distribution.\n",
    "##### As the samples increases the distribution will be normal\n",
    "##### Code Explanation :\n",
    "##### 1.we declared a array sample_means for storing the mean of samples.\n",
    "##### 2.we run the code for 10000 time to calculate 10000 samples.\n",
    "##### 3. Sample = np.random.normal(50,10,30). this piece of code generaes 30 random values centered around 50 with \n",
    "##### standard deviation 10.giving a sample representing 30 hours of production data."
   ]
  },
  {
   "cell_type": "markdown",
   "id": "e4d12703-3c0a-4501-8e13-b5bd7ec69579",
   "metadata": {},
   "source": [
    "## **C .Confidence Intervals**"
   ]
  },
  {
   "cell_type": "markdown",
   "id": "69256380-54fa-4588-a22a-a66bc8c7e189",
   "metadata": {},
   "source": [
    "##### A confidence interval is just a range of values — from point A to point B — that \n",
    "##### likely contains a true value (like an average) for a whole population, based on data collected from a sample.\n",
    "##### It helps us make a smart estimate about a large group, without needing to measure everyone.\n",
    "##### A confidence level (like 95%) means we are 95% sure the true value lies inside that range.\n",
    "##### This might sound confusing at first. Let’s make it simple with an example."
   ]
  },
  {
   "cell_type": "markdown",
   "id": "aafaed69-ced5-4d60-97f8-91da1867bfd5",
   "metadata": {},
   "source": [
    "##### ***Example***\n",
    "##### Data collection : you collect a random sample of 100 users and calculate that on average they \n",
    "##### average they spend 120 minutes a day. standard deviation is 30 minutes.\n",
    "##### *Confident interval calculation :*\n",
    "##### you want a 95% confidence interval for the mean time users spend on the app.\n",
    "##### *Formula :*\n",
    "##### For a Normal Distribution,the confidence interval is given by\n",
    "##### CI=Sample mean (+-) Z*(std/(sample size)**0.5)\n",
    "##### Z*(std/(sample size)**0.5 is the error rate."
   ]
  },
  {
   "cell_type": "code",
   "execution_count": 3,
   "id": "f4802440-5f88-41a8-b90d-226b2dd371c0",
   "metadata": {},
   "outputs": [
    {
     "name": "stdout",
     "output_type": "stream",
     "text": [
      "The 95% of confidence interval:114.12 to 125.88\n",
      "We are 95% confident that the average time all users spend on the application per day lies between 114.12 and 125.88 minutes.\n"
     ]
    }
   ],
   "source": [
    "#calculations\n",
    "import math\n",
    "sample_mean=120\n",
    "standard_deviation=30\n",
    "sample_size=100\n",
    "z=1.96 #for 95% confidence\n",
    "error_rate=z*(standard_deviation/math.sqrt(sample_size))\n",
    "lower_bound=sample_mean-error_rate\n",
    "upper_bound=sample_mean+error_rate\n",
    "print(f'The 95% of confidence interval:{lower_bound} to {upper_bound}')\n",
    "print(f\"We are 95% confident that the average time all users spend on the application per day lies between {lower_bound} and {upper_bound} minutes.\")\n"
   ]
  },
  {
   "cell_type": "markdown",
   "id": "7924c5b6-6293-44be-9129-9e02b4755e94",
   "metadata": {},
   "source": [
    "##### *Confidence intervals help us understand where the true mean likely lies,*\n",
    "##### *but they don’t describe the entire dataset or guarantee individual values.*"
   ]
  },
  {
   "cell_type": "markdown",
   "id": "2837af84-a03e-4c1d-b65e-d70301634ec6",
   "metadata": {},
   "source": [
    "##### **We Can Conclude:**\n",
    "##### We are 95% confident that the average daily time spent by all users on the app lies between 114.12 and 125.88 minutes.\n",
    "##### This helps in estimating the population mean based on a sample.\n",
    "\n",
    "##### **We Cannot Conclude:**\n",
    "##### That every user's time spent falls within this range.\n",
    "##### That this interval tells us anything about individual behavior, outliers, or distribution shape.\n",
    "##### That the true mean must fall in this interval — there's still a 5% chance it doesn't (because it's a 95% confidence level).\n",
    "\n"
   ]
  },
  {
   "cell_type": "markdown",
   "id": "34d48f96-40ab-402a-8dd2-1456c0120d93",
   "metadata": {},
   "source": [
    "## References and Further Reading\n",
    "##### For those who looking to dive deeper, here are some recommended resources:\n",
    "##### Statistics for Data Science : https://www.w3schools.com/datascience/ds_stat_intro.asp\n"
   ]
  },
  {
   "cell_type": "code",
   "execution_count": null,
   "id": "9e79fee7-69f8-451d-989f-cf3dc9398576",
   "metadata": {},
   "outputs": [],
   "source": []
  }
 ],
 "metadata": {
  "kernelspec": {
   "display_name": "Python 3 (ipykernel)",
   "language": "python",
   "name": "python3"
  },
  "language_info": {
   "codemirror_mode": {
    "name": "ipython",
    "version": 3
   },
   "file_extension": ".py",
   "mimetype": "text/x-python",
   "name": "python",
   "nbconvert_exporter": "python",
   "pygments_lexer": "ipython3",
   "version": "3.12.7"
  }
 },
 "nbformat": 4,
 "nbformat_minor": 5
}
